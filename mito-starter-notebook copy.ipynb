{
 "cells": [
  {
   "cell_type": "code",
   "execution_count": 1,
   "id": "ea924563",
   "metadata": {},
   "outputs": [],
   "source": [
    "import mitosheet\n",
    "mitosheet.sheet(analysis_to_replay=\"id-bnimrieqzo\")"
   ]
  },
  {
   "cell_type": "code",
   "execution_count": 3,
   "id": "ec6473c6-f2fa-42b4-a682-3e72d6f355f5",
   "metadata": {},
   "outputs": [
    {
     "data": {
      "text/html": [
       "<iframe\n",
       "    scrolling=\"no\"\n",
       "    width=\"100%\"\n",
       "    height=\"545px\"\n",
       "    src=\"iframe_figures/figure_3.html\"\n",
       "    frameborder=\"0\"\n",
       "    allowfullscreen\n",
       "></iframe>\n"
      ]
     },
     "metadata": {},
     "output_type": "display_data"
    }
   ],
   "source": [
    "from mitosheet import *; register_analysis(\"id-bnimrieqzo\");\n",
    "    \n",
    "# Imported taxi_data.csv\n",
    "import pandas as pd\n",
    "taxi_data = pd.read_csv(r'C:\\Users\\tkdag\\OneDrive\\Dokumen\\Github\\Dataminingku\\taxi_data.csv')\n",
    "\n",
    "# Filtered passenger_count\n",
    "taxi_data = taxi_data[taxi_data['passenger_count'].notnull()]\n",
    "\n",
    "# Filtered RatecodeID\n",
    "taxi_data = taxi_data[taxi_data['RatecodeID'].notnull()]\n",
    "\n",
    "# Filtered DOLocationID\n",
    "taxi_data = taxi_data[taxi_data['DOLocationID'].notnull()]\n",
    "\n",
    "import plotly.express as px\n",
    "\n",
    "# Filter the dataframe so that it does not crash the browser\n",
    "taxi_data_filtered = taxi_data.head(1000)\n",
    "\n",
    "# Construct the graph and style it. Further customize your graph by editing this code.\n",
    "# See Plotly Documentation for help: https://plotly.com/python/plotly-express/\n",
    "fig = px.bar(taxi_data_filtered, x=['passenger_count', 'RatecodeID'], y='PULocationID')\n",
    "fig.update_layout(\n",
    "    title='passenger_count, RatecodeID, PULocationID (first 1000 rows) bar chart', \n",
    "    xaxis = dict(\n",
    "        rangeslider = dict(\n",
    "            visible=True, \n",
    "            thickness=0.05\n",
    "        )\n",
    "    ), \n",
    "    yaxis = dict(\n",
    "\n",
    "    ), \n",
    "    barmode='group', \n",
    "    paper_bgcolor='#FFFFFF', \n",
    "    showlegend=True\n",
    ")\n",
    "fig.show(renderer=\"iframe\")"
   ]
  },
  {
   "cell_type": "code",
   "execution_count": null,
   "id": "e2c55a5a-2e4e-4c69-b6ff-afe29dd4dda5",
   "metadata": {},
   "outputs": [],
   "source": []
  }
 ],
 "metadata": {
  "kernelspec": {
   "display_name": "Python 3 (ipykernel)",
   "language": "python",
   "name": "python3"
  },
  "language_info": {
   "codemirror_mode": {
    "name": "ipython",
    "version": 3
   },
   "file_extension": ".py",
   "mimetype": "text/x-python",
   "name": "python",
   "nbconvert_exporter": "python",
   "pygments_lexer": "ipython3",
   "version": "3.10.5"
  },
  "vscode": {
   "interpreter": {
    "hash": "e1db1a792cec4340063ca04c2137b82f278a1ed39857884cb97eda3aa1a3468e"
   }
  },
  "widgets": {
   "application/vnd.jupyter.widget-state+json": {
    "state": {},
    "version_major": 2,
    "version_minor": 0
   }
  }
 },
 "nbformat": 4,
 "nbformat_minor": 5
}
